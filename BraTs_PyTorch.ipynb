{
  "nbformat": 4,
  "nbformat_minor": 0,
  "metadata": {
    "colab": {
      "name": "BraTs_PyTorch.ipynb",
      "provenance": [],
      "machine_shape": "hm",
      "include_colab_link": true
    },
    "kernelspec": {
      "name": "python3",
      "display_name": "Python 3"
    },
    "accelerator": "GPU",
    "widgets": {
      "application/vnd.jupyter.widget-state+json": {
        "5c40bc8b15a34ce4a8072b15aae0b297": {
          "model_module": "@jupyter-widgets/controls",
          "model_name": "VBoxModel",
          "state": {
            "_view_name": "VBoxView",
            "_dom_classes": [
              "widget-interact"
            ],
            "_model_name": "VBoxModel",
            "_view_module": "@jupyter-widgets/controls",
            "_model_module_version": "1.5.0",
            "_view_count": null,
            "_view_module_version": "1.5.0",
            "box_style": "",
            "layout": "IPY_MODEL_4c49ef199d654c2db4955d4ffd65bf92",
            "_model_module": "@jupyter-widgets/controls",
            "children": [
              "IPY_MODEL_3be84757f6b048eeb5ec3fdc6edbc437",
              "IPY_MODEL_4e99a2ab03ee442ab2468a4144765ad2"
            ]
          }
        },
        "4c49ef199d654c2db4955d4ffd65bf92": {
          "model_module": "@jupyter-widgets/base",
          "model_name": "LayoutModel",
          "state": {
            "_view_name": "LayoutView",
            "grid_template_rows": null,
            "right": null,
            "justify_content": null,
            "_view_module": "@jupyter-widgets/base",
            "overflow": null,
            "_model_module_version": "1.2.0",
            "_view_count": null,
            "flex_flow": null,
            "width": null,
            "min_width": null,
            "border": null,
            "align_items": null,
            "bottom": null,
            "_model_module": "@jupyter-widgets/base",
            "top": null,
            "grid_column": null,
            "overflow_y": null,
            "overflow_x": null,
            "grid_auto_flow": null,
            "grid_area": null,
            "grid_template_columns": null,
            "flex": null,
            "_model_name": "LayoutModel",
            "justify_items": null,
            "grid_row": null,
            "max_height": null,
            "align_content": null,
            "visibility": null,
            "align_self": null,
            "height": null,
            "min_height": null,
            "padding": null,
            "grid_auto_rows": null,
            "grid_gap": null,
            "max_width": null,
            "order": null,
            "_view_module_version": "1.2.0",
            "grid_template_areas": null,
            "object_position": null,
            "object_fit": null,
            "grid_auto_columns": null,
            "margin": null,
            "display": null,
            "left": null
          }
        },
        "3be84757f6b048eeb5ec3fdc6edbc437": {
          "model_module": "@jupyter-widgets/controls",
          "model_name": "IntSliderModel",
          "state": {
            "_view_name": "IntSliderView",
            "style": "IPY_MODEL_4e3670fa944d459d85e02ff04eabd649",
            "_dom_classes": [],
            "description": "layer",
            "step": 1,
            "_model_name": "IntSliderModel",
            "orientation": "horizontal",
            "max": 2399,
            "_view_module": "@jupyter-widgets/controls",
            "_model_module_version": "1.5.0",
            "value": 1199,
            "_view_count": null,
            "disabled": false,
            "_view_module_version": "1.5.0",
            "min": 0,
            "continuous_update": true,
            "readout_format": "d",
            "description_tooltip": null,
            "readout": true,
            "_model_module": "@jupyter-widgets/controls",
            "layout": "IPY_MODEL_66ae303dd30141a8ae4b45af45aa39c8"
          }
        },
        "4e99a2ab03ee442ab2468a4144765ad2": {
          "model_module": "@jupyter-widgets/output",
          "model_name": "OutputModel",
          "state": {
            "_view_name": "OutputView",
            "msg_id": "",
            "_dom_classes": [],
            "_model_name": "OutputModel",
            "outputs": [
              {
                "output_type": "display_data",
                "metadata": {
                  "tags": [],
                  "needs_background": "light"
                },
                "image/png": "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\n",
                "text/plain": "<Figure size 720x360 with 1 Axes>"
              },
              {
                "output_type": "display_data",
                "metadata": {
                  "tags": []
                },
                "text/plain": "1199"
              }
            ],
            "_view_module": "@jupyter-widgets/output",
            "_model_module_version": "1.0.0",
            "_view_count": null,
            "_view_module_version": "1.0.0",
            "layout": "IPY_MODEL_8c29fa3fd81542958677dbfa92075770",
            "_model_module": "@jupyter-widgets/output"
          }
        },
        "4e3670fa944d459d85e02ff04eabd649": {
          "model_module": "@jupyter-widgets/controls",
          "model_name": "SliderStyleModel",
          "state": {
            "_view_name": "StyleView",
            "handle_color": null,
            "_model_name": "SliderStyleModel",
            "description_width": "",
            "_view_module": "@jupyter-widgets/base",
            "_model_module_version": "1.5.0",
            "_view_count": null,
            "_view_module_version": "1.2.0",
            "_model_module": "@jupyter-widgets/controls"
          }
        },
        "66ae303dd30141a8ae4b45af45aa39c8": {
          "model_module": "@jupyter-widgets/base",
          "model_name": "LayoutModel",
          "state": {
            "_view_name": "LayoutView",
            "grid_template_rows": null,
            "right": null,
            "justify_content": null,
            "_view_module": "@jupyter-widgets/base",
            "overflow": null,
            "_model_module_version": "1.2.0",
            "_view_count": null,
            "flex_flow": null,
            "width": null,
            "min_width": null,
            "border": null,
            "align_items": null,
            "bottom": null,
            "_model_module": "@jupyter-widgets/base",
            "top": null,
            "grid_column": null,
            "overflow_y": null,
            "overflow_x": null,
            "grid_auto_flow": null,
            "grid_area": null,
            "grid_template_columns": null,
            "flex": null,
            "_model_name": "LayoutModel",
            "justify_items": null,
            "grid_row": null,
            "max_height": null,
            "align_content": null,
            "visibility": null,
            "align_self": null,
            "height": null,
            "min_height": null,
            "padding": null,
            "grid_auto_rows": null,
            "grid_gap": null,
            "max_width": null,
            "order": null,
            "_view_module_version": "1.2.0",
            "grid_template_areas": null,
            "object_position": null,
            "object_fit": null,
            "grid_auto_columns": null,
            "margin": null,
            "display": null,
            "left": null
          }
        },
        "8c29fa3fd81542958677dbfa92075770": {
          "model_module": "@jupyter-widgets/base",
          "model_name": "LayoutModel",
          "state": {
            "_view_name": "LayoutView",
            "grid_template_rows": null,
            "right": null,
            "justify_content": null,
            "_view_module": "@jupyter-widgets/base",
            "overflow": null,
            "_model_module_version": "1.2.0",
            "_view_count": null,
            "flex_flow": null,
            "width": null,
            "min_width": null,
            "border": null,
            "align_items": null,
            "bottom": null,
            "_model_module": "@jupyter-widgets/base",
            "top": null,
            "grid_column": null,
            "overflow_y": null,
            "overflow_x": null,
            "grid_auto_flow": null,
            "grid_area": null,
            "grid_template_columns": null,
            "flex": null,
            "_model_name": "LayoutModel",
            "justify_items": null,
            "grid_row": null,
            "max_height": null,
            "align_content": null,
            "visibility": null,
            "align_self": null,
            "height": null,
            "min_height": null,
            "padding": null,
            "grid_auto_rows": null,
            "grid_gap": null,
            "max_width": null,
            "order": null,
            "_view_module_version": "1.2.0",
            "grid_template_areas": null,
            "object_position": null,
            "object_fit": null,
            "grid_auto_columns": null,
            "margin": null,
            "display": null,
            "left": null
          }
        },
        "3a694a5d8e104da4a4e1e5e8f0e37353": {
          "model_module": "@jupyter-widgets/controls",
          "model_name": "VBoxModel",
          "state": {
            "_view_name": "VBoxView",
            "_dom_classes": [
              "widget-interact"
            ],
            "_model_name": "VBoxModel",
            "_view_module": "@jupyter-widgets/controls",
            "_model_module_version": "1.5.0",
            "_view_count": null,
            "_view_module_version": "1.5.0",
            "box_style": "",
            "layout": "IPY_MODEL_30a82a1997d442ada1bc4bb085fa7d3b",
            "_model_module": "@jupyter-widgets/controls",
            "children": [
              "IPY_MODEL_6926ee0ac1174497a4e2cc19bca573ee",
              "IPY_MODEL_fe464eab954a4bcda8b004e3d141411c"
            ]
          }
        },
        "30a82a1997d442ada1bc4bb085fa7d3b": {
          "model_module": "@jupyter-widgets/base",
          "model_name": "LayoutModel",
          "state": {
            "_view_name": "LayoutView",
            "grid_template_rows": null,
            "right": null,
            "justify_content": null,
            "_view_module": "@jupyter-widgets/base",
            "overflow": null,
            "_model_module_version": "1.2.0",
            "_view_count": null,
            "flex_flow": null,
            "width": null,
            "min_width": null,
            "border": null,
            "align_items": null,
            "bottom": null,
            "_model_module": "@jupyter-widgets/base",
            "top": null,
            "grid_column": null,
            "overflow_y": null,
            "overflow_x": null,
            "grid_auto_flow": null,
            "grid_area": null,
            "grid_template_columns": null,
            "flex": null,
            "_model_name": "LayoutModel",
            "justify_items": null,
            "grid_row": null,
            "max_height": null,
            "align_content": null,
            "visibility": null,
            "align_self": null,
            "height": null,
            "min_height": null,
            "padding": null,
            "grid_auto_rows": null,
            "grid_gap": null,
            "max_width": null,
            "order": null,
            "_view_module_version": "1.2.0",
            "grid_template_areas": null,
            "object_position": null,
            "object_fit": null,
            "grid_auto_columns": null,
            "margin": null,
            "display": null,
            "left": null
          }
        },
        "6926ee0ac1174497a4e2cc19bca573ee": {
          "model_module": "@jupyter-widgets/controls",
          "model_name": "IntSliderModel",
          "state": {
            "_view_name": "IntSliderView",
            "style": "IPY_MODEL_924f68e1908a4b9081938640316ba673",
            "_dom_classes": [],
            "description": "layer",
            "step": 1,
            "_model_name": "IntSliderModel",
            "orientation": "horizontal",
            "max": 2399,
            "_view_module": "@jupyter-widgets/controls",
            "_model_module_version": "1.5.0",
            "value": 1199,
            "_view_count": null,
            "disabled": false,
            "_view_module_version": "1.5.0",
            "min": 0,
            "continuous_update": true,
            "readout_format": "d",
            "description_tooltip": null,
            "readout": true,
            "_model_module": "@jupyter-widgets/controls",
            "layout": "IPY_MODEL_e9a8ad137ae2440e80e78c9df2c5990e"
          }
        },
        "fe464eab954a4bcda8b004e3d141411c": {
          "model_module": "@jupyter-widgets/output",
          "model_name": "OutputModel",
          "state": {
            "_view_name": "OutputView",
            "msg_id": "",
            "_dom_classes": [],
            "_model_name": "OutputModel",
            "outputs": [
              {
                "output_type": "display_data",
                "metadata": {
                  "tags": [],
                  "needs_background": "light"
                },
                "image/png": "iVBORw0KGgoAAAANSUhEUgAAAR4AAAEeCAYAAABcyXrWAAAABHNCSVQICAgIfAhkiAAAAAlwSFlzAAALEgAACxIB0t1+/AAAADh0RVh0U29mdHdhcmUAbWF0cGxvdGxpYiB2ZXJzaW9uMy4yLjIsIGh0dHA6Ly9tYXRwbG90bGliLm9yZy+WH4yJAAADsElEQVR4nO3ZIQ7DQAwAwTjq/7/svqABBXsgM9TEaGXJs7sXQOk+vQDwPsID5IQHyAkPkBMeICc8QO7zNJwZv3bgL7s7v2YuHiAnPEBOeICc8AA54QFywgPkhAfICQ+QEx4gJzxATniAnPAAOeEBcsID5IQHyAkPkBMeICc8QE54gJzwADnhAXLCA+SEB8gJD5ATHiAnPEBOeICc8AA54QFywgPkhAfICQ+QEx4gJzxATniAnPAAOeEBcsID5IQHyAkPkBMeICc8QE54gJzwADnhAXLCA+SEB8gJD5ATHiAnPEBOeICc8AA54QFywgPkhAfICQ+QEx4gJzxATniAnPAAOeEBcsID5IQHyAkPkBMeICc8QE54gJzwADnhAXLCA+SEB8gJD5ATHiAnPEBOeICc8AA54QFywgPkhAfICQ+QEx4gJzxATniAnPAAOeEBcsID5IQHyAkPkBMeICc8QE54gJzwADnhAXLCA+SEB8gJD5ATHiAnPEBOeICc8AA54QFywgPkhAfICQ+QEx4gJzxATniAnPAAOeEBcsID5IQHyAkPkBMeICc8QE54gJzwADnhAXLCA+SEB8gJD5ATHiAnPEBOeICc8AA54QFywgPkhAfICQ+QEx4gJzxATniAnPAAOeEBcsID5IQHyAkPkBMeICc8QE54gJzwADnhAXLCA+SEB8gJD5ATHiAnPEBOeICc8AA54QFywgPkhAfICQ+QEx4gJzxATniAnPAAOeEBcsID5IQHyAkPkBMeICc8QE54gJzwADnhAXLCA+SEB8gJD5ATHiAnPEBOeICc8AA54QFywgPkhAfICQ+QEx4gJzxATniAnPAAOeEBcsID5IQHyAkPkBMeICc8QE54gJzwADnhAXLCA+SEB8gJD5ATHiAnPEBOeICc8AA54QFywgPkhAfICQ+QEx4gJzxATniAnPAAOeEBcsID5IQHyAkPkBMeICc8QE54gJzwADnhAXLCA+SEB8gJD5ATHiAnPEBOeICc8AA54QFywgPkhAfICQ+QEx4gJzxATniAnPAAOeEBcsID5IQHyAkPkBMeICc8QE54gJzwADnhAXLCA+SEB8gJD5ATHiAnPEBOeICc8AA54QFywgPkhAfICQ+QEx4gJzxATniAnPAAOeEBcsID5IQHyAkPkBMeICc8QE54gJzwADnhAXLCA+SEB8gJD5ATHiAnPEBOeICc8AA54QFywgPkhAfIze6e3gF4GRcPkBMeICc8QE54gJzwADnhAXJfbPIMN0BZVzwAAAAASUVORK5CYII=\n",
                "text/plain": "<Figure size 720x360 with 1 Axes>"
              },
              {
                "output_type": "display_data",
                "metadata": {
                  "tags": []
                },
                "text/plain": "1199"
              }
            ],
            "_view_module": "@jupyter-widgets/output",
            "_model_module_version": "1.0.0",
            "_view_count": null,
            "_view_module_version": "1.0.0",
            "layout": "IPY_MODEL_3657691d04dc486fa5c27635a99b3471",
            "_model_module": "@jupyter-widgets/output"
          }
        },
        "924f68e1908a4b9081938640316ba673": {
          "model_module": "@jupyter-widgets/controls",
          "model_name": "SliderStyleModel",
          "state": {
            "_view_name": "StyleView",
            "handle_color": null,
            "_model_name": "SliderStyleModel",
            "description_width": "",
            "_view_module": "@jupyter-widgets/base",
            "_model_module_version": "1.5.0",
            "_view_count": null,
            "_view_module_version": "1.2.0",
            "_model_module": "@jupyter-widgets/controls"
          }
        },
        "e9a8ad137ae2440e80e78c9df2c5990e": {
          "model_module": "@jupyter-widgets/base",
          "model_name": "LayoutModel",
          "state": {
            "_view_name": "LayoutView",
            "grid_template_rows": null,
            "right": null,
            "justify_content": null,
            "_view_module": "@jupyter-widgets/base",
            "overflow": null,
            "_model_module_version": "1.2.0",
            "_view_count": null,
            "flex_flow": null,
            "width": null,
            "min_width": null,
            "border": null,
            "align_items": null,
            "bottom": null,
            "_model_module": "@jupyter-widgets/base",
            "top": null,
            "grid_column": null,
            "overflow_y": null,
            "overflow_x": null,
            "grid_auto_flow": null,
            "grid_area": null,
            "grid_template_columns": null,
            "flex": null,
            "_model_name": "LayoutModel",
            "justify_items": null,
            "grid_row": null,
            "max_height": null,
            "align_content": null,
            "visibility": null,
            "align_self": null,
            "height": null,
            "min_height": null,
            "padding": null,
            "grid_auto_rows": null,
            "grid_gap": null,
            "max_width": null,
            "order": null,
            "_view_module_version": "1.2.0",
            "grid_template_areas": null,
            "object_position": null,
            "object_fit": null,
            "grid_auto_columns": null,
            "margin": null,
            "display": null,
            "left": null
          }
        },
        "3657691d04dc486fa5c27635a99b3471": {
          "model_module": "@jupyter-widgets/base",
          "model_name": "LayoutModel",
          "state": {
            "_view_name": "LayoutView",
            "grid_template_rows": null,
            "right": null,
            "justify_content": null,
            "_view_module": "@jupyter-widgets/base",
            "overflow": null,
            "_model_module_version": "1.2.0",
            "_view_count": null,
            "flex_flow": null,
            "width": null,
            "min_width": null,
            "border": null,
            "align_items": null,
            "bottom": null,
            "_model_module": "@jupyter-widgets/base",
            "top": null,
            "grid_column": null,
            "overflow_y": null,
            "overflow_x": null,
            "grid_auto_flow": null,
            "grid_area": null,
            "grid_template_columns": null,
            "flex": null,
            "_model_name": "LayoutModel",
            "justify_items": null,
            "grid_row": null,
            "max_height": null,
            "align_content": null,
            "visibility": null,
            "align_self": null,
            "height": null,
            "min_height": null,
            "padding": null,
            "grid_auto_rows": null,
            "grid_gap": null,
            "max_width": null,
            "order": null,
            "_view_module_version": "1.2.0",
            "grid_template_areas": null,
            "object_position": null,
            "object_fit": null,
            "grid_auto_columns": null,
            "margin": null,
            "display": null,
            "left": null
          }
        }
      }
    }
  },
  "cells": [
    {
      "cell_type": "markdown",
      "metadata": {
        "id": "view-in-github",
        "colab_type": "text"
      },
      "source": [
        "<a href=\"https://colab.research.google.com/github/SmellingSalt/Statistical-Pattern-Recognition-Assignments/blob/master/BraTs_PyTorch.ipynb\" target=\"_parent\"><img src=\"https://colab.research.google.com/assets/colab-badge.svg\" alt=\"Open In Colab\"/></a>"
      ]
    },
    {
      "cell_type": "code",
      "metadata": {
        "id": "msqMste32C4B"
      },
      "source": [
        "import torch\n",
        "import matplotlib.pyplot as plt\n",
        "import nibabel as nib\n",
        "import numpy as np\n",
        "import os\n",
        "from sklearn.model_selection import train_test_split\n",
        "import torchvision.transforms as transforms\n",
        "from tqdm import tqdm \n",
        "import cv2\n",
        "import math"
      ],
      "execution_count": 1,
      "outputs": []
    },
    {
      "cell_type": "code",
      "metadata": {
        "id": "bkoMOXKS19Nd",
        "outputId": "a91cdbfb-f2ee-4382-bb9a-9d92dd8689f1",
        "colab": {
          "base_uri": "https://localhost:8080/",
          "height": 34
        }
      },
      "source": [
        "print(torch.cuda.device_count())"
      ],
      "execution_count": 2,
      "outputs": [
        {
          "output_type": "stream",
          "text": [
            "1\n"
          ],
          "name": "stdout"
        }
      ]
    },
    {
      "cell_type": "code",
      "metadata": {
        "id": "pL4H3gSNaqtE",
        "outputId": "0326befa-4514-4ff8-8936-6b522be39b22",
        "colab": {
          "base_uri": "https://localhost:8080/",
          "height": 52
        }
      },
      "source": [
        "print(torch.cuda.device(0))\n",
        "print(torch.cuda.get_device_name())"
      ],
      "execution_count": 3,
      "outputs": [
        {
          "output_type": "stream",
          "text": [
            "<torch.cuda.device object at 0x7f1dbfc7f908>\n",
            "Tesla P100-PCIE-16GB\n"
          ],
          "name": "stdout"
        }
      ]
    },
    {
      "cell_type": "code",
      "metadata": {
        "id": "_mVIvmfFa0Y6"
      },
      "source": [
        "cuda0 = torch.device('cuda:0')"
      ],
      "execution_count": 4,
      "outputs": []
    },
    {
      "cell_type": "code",
      "metadata": {
        "id": "qxi10wkXL9bW",
        "outputId": "60eea451-c272-4070-bf77-62df30d43bd5",
        "colab": {
          "base_uri": "https://localhost:8080/",
          "height": 34
        }
      },
      "source": [
        "from google.colab import drive\n",
        "drive.mount('/content/drive')"
      ],
      "execution_count": 5,
      "outputs": [
        {
          "output_type": "stream",
          "text": [
            "Mounted at /content/drive\n"
          ],
          "name": "stdout"
        }
      ]
    },
    {
      "cell_type": "code",
      "metadata": {
        "id": "243yFv38Ma2N",
        "outputId": "f57c1f95-1b58-480c-afe0-c13a8c2045c7",
        "colab": {
          "base_uri": "https://localhost:8080/",
          "height": 70
        }
      },
      "source": [
        "path = '/content/drive/My Drive/BraTS2019/HGG'\n",
        "list_tr =[]\n",
        "for dirName, subdirList, FileList in os.walk(path):\n",
        "  for filename in FileList:\n",
        "    if 't1.nii' in filename.lower():\n",
        "      list_tr.append(os.path.join(dirName, filename))\n",
        "\n",
        "list_ts =[]\n",
        "for dirName, subdirList, FileList in os.walk(path):\n",
        "  for filename in FileList:\n",
        "    if 'seg.nii' in filename.lower():\n",
        "      list_ts.append(os.path.join(dirName, filename))\n",
        "\n",
        "print(len(list_tr))\n",
        "print(len(list_ts))\n",
        "print(list_tr[1])"
      ],
      "execution_count": 6,
      "outputs": [
        {
          "output_type": "stream",
          "text": [
            "259\n",
            "259\n",
            "/content/drive/My Drive/BraTS2019/HGG/BraTS19_TMC_06643_1/BraTS19_TMC_06643_1_t1.nii.gz\n"
          ],
          "name": "stdout"
        }
      ]
    },
    {
      "cell_type": "code",
      "metadata": {
        "id": "wjihCatEMiQY"
      },
      "source": [
        "Tr_img =[]\n",
        "label_img = []"
      ],
      "execution_count": 7,
      "outputs": []
    },
    {
      "cell_type": "code",
      "metadata": {
        "id": "EJJPLiqyMnnG",
        "outputId": "443df524-fd3d-4605-c64e-c0d8bd1d8e70",
        "colab": {
          "base_uri": "https://localhost:8080/",
          "height": 34
        }
      },
      "source": [
        "for i in tqdm(range(len(list_tr[20:60]))):\n",
        "  x = nib.load(list_tr[i])\n",
        "  a = x.get_fdata()                     #each file is of shape (240,240,155)\n",
        "  a = np.transpose(a, (2,0,1) )         #(155, 240,240)\n",
        "  a = a[70:130,:, :]                    #taking 80 slices from 50 to 130.\n",
        "  for i in range(a.shape[0]):\n",
        "    Tr_img.append((a[i,:,:]))\n",
        "\n",
        "# for i in tqdm(range(len(list_tr[:5]))):\n",
        "#   x = nib.load(list_tr[i])\n",
        "#   x = x.get_fdata()\n",
        "  "
      ],
      "execution_count": 8,
      "outputs": [
        {
          "output_type": "stream",
          "text": [
            "100%|██████████| 40/40 [00:50<00:00,  1.27s/it]\n"
          ],
          "name": "stderr"
        }
      ]
    },
    {
      "cell_type": "code",
      "metadata": {
        "id": "EYkXgLhjBqzb"
      },
      "source": [
        "\"\"\" 1-hot encodes a tensor \"\"\"\n",
        "def to_categorical(y, num_classes):\n",
        "    return np.eye(num_classes, dtype='uint8')[y]"
      ],
      "execution_count": 9,
      "outputs": []
    },
    {
      "cell_type": "code",
      "metadata": {
        "id": "SA4u491uEyZ7",
        "outputId": "921604cf-d1d0-4022-9401-6a0d916a0411",
        "colab": {
          "base_uri": "https://localhost:8080/",
          "height": 1000
        }
      },
      "source": [
        "x = np.array(nib.load(list_ts[1]).get_fdata()).astype(np.uint8)\n",
        "a = to_categorical(x, 5) # 0,1\n",
        "b = a[:,:,:,0:3]\n",
        "c = a[:,:,:,4:]\n",
        "d = np.concatenate((b,c), axis=3)\n",
        "d.shape\n",
        "\n",
        "\n",
        "plt.imshow(d[:,:,70,0], cmap='gray')\n",
        "plt.show()\n",
        "plt.imshow(d[:,:,70,1], cmap='gray')\n",
        "plt.show()\n",
        "plt.imshow(d[:,:,70,2], cmap='gray')\n",
        "plt.show()\n",
        "plt.imshow(d[:,:,70,3], cmap='gray')\n",
        "plt.show()\n",
        "# plt.imshow(d[:,:,70,4], cmap='gray')\n",
        "# plt.show()"
      ],
      "execution_count": 10,
      "outputs": [
        {
          "output_type": "display_data",
          "data": {
            "image/png": "[encoded data removed]",
            "text/plain": [
              "<Figure size 432x288 with 1 Axes>"
            ]
          },
          "metadata": {
            "tags": [],
            "needs_background": "light"
          }
        },
        {
          "output_type": "display_data",
          "data": {
            "image/png": "[encoded data removed]",
            "text/plain": [
              "<Figure size 432x288 with 1 Axes>"
            ]
          },
          "metadata": {
            "tags": [],
            "needs_background": "light"
          }
        },
        {
          "output_type": "display_data",
          "data": {
            "image/png": "[encoded data removed]",
            "text/plain": [
              "<Figure size 432x288 with 1 Axes>"
            ]
          },
          "metadata": {
            "tags": [],
            "needs_background": "light"
          }
        },
        {
          "output_type": "display_data",
          "data": {
            "image/png": "[encoded data removed]",
            "text/plain": [
              "<Figure size 432x288 with 1 Axes>"
            ]
          },
          "metadata": {
            "tags": [],
            "needs_background": "light"
          }
        }
      ]
    },
    {
      "cell_type": "code",
      "metadata": {
        "id": "23QyFhXETXZv",
        "outputId": "6c0e005a-7024-4e64-c12a-65751f2541f2",
        "colab": {
          "base_uri": "https://localhost:8080/",
          "height": 34
        }
      },
      "source": [
        "for n in tqdm(range(len(list_ts[20:60]))):\n",
        "  x = np.array(nib.load(list_ts[n]).get_fdata()).astype(np.uint8)\n",
        "  a = to_categorical(x,5)\n",
        "  b = a[:,:,:,0:3]\n",
        "  c = a[:,:,:,4:]\n",
        "  d = np.concatenate((b,c), axis=3)\n",
        "  e = np.transpose(d, (3,2,0,1))\n",
        "  e = e[:,70:130,:, :]\n",
        "  #label_image = np.zeros((4,1600,240,240))\n",
        "  for i in range(e.shape[1]):\n",
        "    label_img.append(e[:,i,:,:])"
      ],
      "execution_count": 11,
      "outputs": [
        {
          "output_type": "stream",
          "text": [
            "100%|██████████| 40/40 [00:29<00:00,  1.36it/s]\n"
          ],
          "name": "stderr"
        }
      ]
    },
    {
      "cell_type": "code",
      "metadata": {
        "id": "A8fLNy6KM-LG",
        "outputId": "79312e87-ebd9-46e6-9c46-6c5e60bcc687",
        "colab": {
          "base_uri": "https://localhost:8080/",
          "height": 34
        }
      },
      "source": [
        "tr_img = np.asarray(Tr_img)\n",
        "label_img = np.asarray(label_img)\n",
        "# tr_img = torch.Tensor(Tr_img).to(cuda0)\n",
        "# ts_img = torch.Tensor(Ts_img).to(cuda0)\n",
        "\n",
        "print(tr_img.shape, label_img.shape)"
      ],
      "execution_count": 12,
      "outputs": [
        {
          "output_type": "stream",
          "text": [
            "(2400, 240, 240) (2400, 4, 240, 240)\n"
          ],
          "name": "stdout"
        }
      ]
    },
    {
      "cell_type": "code",
      "metadata": {
        "id": "K3c6wfKQVPQq",
        "outputId": "1d03bdca-1535-464f-e81e-17121fc9c91c",
        "colab": {
          "base_uri": "https://localhost:8080/",
          "height": 705,
          "referenced_widgets": [
            "5c40bc8b15a34ce4a8072b15aae0b297",
            "4c49ef199d654c2db4955d4ffd65bf92",
            "3be84757f6b048eeb5ec3fdc6edbc437",
            "4e99a2ab03ee442ab2468a4144765ad2",
            "4e3670fa944d459d85e02ff04eabd649",
            "66ae303dd30141a8ae4b45af45aa39c8",
            "8c29fa3fd81542958677dbfa92075770",
            "3a694a5d8e104da4a4e1e5e8f0e37353",
            "30a82a1997d442ada1bc4bb085fa7d3b",
            "6926ee0ac1174497a4e2cc19bca573ee",
            "fe464eab954a4bcda8b004e3d141411c",
            "924f68e1908a4b9081938640316ba673",
            "e9a8ad137ae2440e80e78c9df2c5990e",
            "3657691d04dc486fa5c27635a99b3471"
          ]
        }
      },
      "source": [
        "from ipywidgets import interact, interactive, IntSlider,ToggleButtons\n",
        "\n",
        "\n",
        "def explore_img(layer):\n",
        "  plt.figure(figsize=(10,5))\n",
        "  plt.imshow(tr_img[layer,:,:], cmap='gray')\n",
        "  plt.axis('off')\n",
        "  return layer\n",
        "\n",
        "interact(explore_img, layer=(0, tr_img.shape[0]-1))\n",
        "\n",
        "def explore_label(layer):\n",
        "  plt.figure(figsize=(10,5))\n",
        "  plt.imshow(label_img[layer,0,:,:], cmap='gray')\n",
        "  plt.axis('off')\n",
        "  return layer\n",
        "\n",
        "interact(explore_label, layer=(0, label_img.shape[0]-1))"
      ],
      "execution_count": 13,
      "outputs": [
        {
          "output_type": "display_data",
          "data": {
            "application/vnd.jupyter.widget-view+json": {
              "model_id": "5c40bc8b15a34ce4a8072b15aae0b297",
              "version_minor": 0,
              "version_major": 2
            },
            "text/plain": [
              "interactive(children=(IntSlider(value=1199, description='layer', max=2399), Output()), _dom_classes=('widget-i…"
            ]
          },
          "metadata": {
            "tags": []
          }
        },
        {
          "output_type": "display_data",
          "data": {
            "application/vnd.jupyter.widget-view+json": {
              "model_id": "3a694a5d8e104da4a4e1e5e8f0e37353",
              "version_minor": 0,
              "version_major": 2
            },
            "text/plain": [
              "interactive(children=(IntSlider(value=1199, description='layer', max=2399), Output()), _dom_classes=('widget-i…"
            ]
          },
          "metadata": {
            "tags": []
          }
        },
        {
          "output_type": "execute_result",
          "data": {
            "text/plain": [
              "<function __main__.explore_label>"
            ]
          },
          "metadata": {
            "tags": []
          },
          "execution_count": 13
        }
      ]
    },
    {
      "cell_type": "code",
      "metadata": {
        "id": "hONu5N43NBwd",
        "outputId": "e7867610-935b-4e1f-8139-0d10102193b9",
        "colab": {
          "base_uri": "https://localhost:8080/",
          "height": 70
        }
      },
      "source": [
        "print(tr_img.shape)\n",
        "tr_img = tr_img.reshape(-1, 1,240,240)\n",
        "print(tr_img.shape)\n",
        "#print(label_img.shape)\n",
        "#label_img = label_img.reshape(-1, 1,240,240)\n",
        "label_img.shape"
      ],
      "execution_count": 14,
      "outputs": [
        {
          "output_type": "stream",
          "text": [
            "(2400, 240, 240)\n",
            "(2400, 1, 240, 240)\n"
          ],
          "name": "stdout"
        },
        {
          "output_type": "execute_result",
          "data": {
            "text/plain": [
              "(2400, 4, 240, 240)"
            ]
          },
          "metadata": {
            "tags": []
          },
          "execution_count": 14
        }
      ]
    },
    {
      "cell_type": "code",
      "metadata": {
        "id": "4xjZ2d35832K"
      },
      "source": [
        "tr_img = torch.from_numpy(tr_img).to(cuda0)\n",
        "label_img = torch.from_numpy(label_img).to(cuda0)"
      ],
      "execution_count": 15,
      "outputs": []
    },
    {
      "cell_type": "code",
      "metadata": {
        "id": "F1IVj84ZNFr9"
      },
      "source": [
        "# mx = np.max(tr_img)\n",
        "# mn = np.min(tr_img)\n",
        "\n",
        "# mx_y = np.max(label_img)\n",
        "# mn_y = np.min(label_img)\n",
        "\n",
        "mx = torch.max(tr_img).to(cuda0)\n",
        "mn = torch.min(tr_img).to(cuda0)\n",
        "\n",
        "mx_y = torch.max(label_img).to(cuda0)\n",
        "mn_y = torch.min(label_img).to(cuda0)"
      ],
      "execution_count": 16,
      "outputs": []
    },
    {
      "cell_type": "code",
      "metadata": {
        "id": "YEzpdRqoNlxF"
      },
      "source": [
        "tr_img = torch.true_divide((tr_img - mn),(mx - mn)).to(cuda0)\n",
        "#tr_img = ((tr_img - mn)/(mx - mn))\n",
        "\n",
        "#ts_img = torch.Tensor((ts_img - mn_y) /(mx_y - mn_y)).to(cuda0)\n",
        "label_img = torch.true_divide((label_img - mn_y),(mx_y - mn_y)).to(cuda0)"
      ],
      "execution_count": 17,
      "outputs": []
    },
    {
      "cell_type": "code",
      "metadata": {
        "id": "iCJ2TgoPSmAT"
      },
      "source": [
        "train_X,valid_X,train_ground,valid_ground = train_test_split(tr_img, label_img, test_size=0.2, random_state=13)"
      ],
      "execution_count": 18,
      "outputs": []
    },
    {
      "cell_type": "code",
      "metadata": {
        "id": "jr3q6dcsvNBy"
      },
      "source": [
        "from torch.utils.data import Dataset, TensorDataset\n",
        "\n",
        "class CustomDataset(Dataset):\n",
        "    def __init__(self, train_X, train_ground):\n",
        "        self.x = train_X\n",
        "        self.y = train_ground\n",
        "        \n",
        "    def __getitem__(self, index):\n",
        "        return (self.x[index], self.y[index])\n",
        "\n",
        "    def __len__(self):\n",
        "        return len(self.x)\n",
        "\n",
        "# Wait, is this a CPU tensor now? Why? Where is .to(device)?\n",
        "#x_train_tensor = (train_X).float().to(cuda0)\n",
        "#y_train_tensor = (train_ground).long().to(cuda0)\n",
        "\n",
        "train_data = CustomDataset(train_X.float(), train_ground.long())\n",
        "#print(train_data[0])\n",
        "\n",
        "#train_data = TensorDataset(x_train_tensor, y_train_tensor)\n",
        "#print(train_data[0])\n"
      ],
      "execution_count": 19,
      "outputs": []
    },
    {
      "cell_type": "code",
      "metadata": {
        "id": "evevOAD520bZ"
      },
      "source": [
        "trainloader = torch.utils.data.DataLoader(train_data, batch_size=1, shuffle=True)"
      ],
      "execution_count": 23,
      "outputs": []
    },
    {
      "cell_type": "code",
      "metadata": {
        "id": "_OiyRvMgVftc",
        "outputId": "b682e9f2-e407-4e06-cb7e-5853d382c62e",
        "colab": {
          "base_uri": "https://localhost:8080/",
          "height": 52
        }
      },
      "source": [
        "dataiter = iter(trainloader)\n",
        "image, label= dataiter.next()\n",
        "print(image.shape)\n",
        "print(label.shape)"
      ],
      "execution_count": 24,
      "outputs": [
        {
          "output_type": "stream",
          "text": [
            "torch.Size([1, 1, 240, 240])\n",
            "torch.Size([1, 4, 240, 240])\n"
          ],
          "name": "stdout"
        }
      ]
    },
    {
      "cell_type": "code",
      "metadata": {
        "id": "RZQhfTbQuVrU",
        "outputId": "c625d771-48e2-4fdc-9570-6c1cbe34816f",
        "colab": {
          "base_uri": "https://localhost:8080/",
          "height": 286
        }
      },
      "source": [
        "img0 = torch.Tensor.cpu(label)\n",
        "print(type(img0))\n",
        "img = img0[0,0,:,:].detach().numpy()\n",
        "plt.imshow(img, cmap='gray')\n",
        "plt.show()"
      ],
      "execution_count": 25,
      "outputs": [
        {
          "output_type": "stream",
          "text": [
            "<class 'torch.Tensor'>\n"
          ],
          "name": "stdout"
        },
        {
          "output_type": "display_data",
          "data": {
            "image/png": "[encoded data removed]",
            "text/plain": [
              "<Figure size 432x288 with 1 Axes>"
            ]
          },
          "metadata": {
            "tags": [],
            "needs_background": "light"
          }
        }
      ]
    },
    {
      "cell_type": "code",
      "metadata": {
        "id": "q5Oy0VSYWOMa"
      },
      "source": [
        "from torch.utils.data import Dataset, TensorDataset\n",
        "\n",
        "class CustomDataset(Dataset):\n",
        "    def __init__(self, valid_X, valid_ground):\n",
        "        self.x = valid_X\n",
        "        self.y = valid_ground\n",
        "        \n",
        "    def __getitem__(self, index):\n",
        "        return (self.x[index], self.y[index])\n",
        "\n",
        "    def __len__(self):\n",
        "        return len(self.x)\n",
        "\n",
        "# Wait, is this a CPU tensor now? Why? Where is .to(device)?\n",
        "# x_valid_tensor = (valid_X).float().to(cuda0)\n",
        "# y_valid_tensor = (valid_ground).long().to(cuda0)\n",
        "\n",
        "#valid_data = CustomDataset(valid_X, valid_ground)\n",
        "valid_data = CustomDataset(valid_X.float(), valid_ground.long())\n",
        "#print(train_data[0])\n",
        "\n",
        "# valid_data = TensorDataset(x_valid_tensor, y_valid_tensor)\n",
        "#print(train_data[0])\n"
      ],
      "execution_count": 26,
      "outputs": []
    },
    {
      "cell_type": "code",
      "metadata": {
        "id": "-FkaUuuqW4Hx"
      },
      "source": [
        "validloader = torch.utils.data.DataLoader(valid_data, batch_size=1, shuffle=False)"
      ],
      "execution_count": 27,
      "outputs": []
    },
    {
      "cell_type": "code",
      "metadata": {
        "id": "c_ekW3voS7Ac",
        "outputId": "d977b2b5-61c4-4707-9611-4de8593def6e",
        "colab": {
          "base_uri": "https://localhost:8080/",
          "height": 34
        }
      },
      "source": [
        "print(\"Dataset (tr_img) shape: {shape}\".format(shape=tr_img.shape))"
      ],
      "execution_count": 28,
      "outputs": [
        {
          "output_type": "stream",
          "text": [
            "Dataset (tr_img) shape: torch.Size([2400, 1, 240, 240])\n"
          ],
          "name": "stdout"
        }
      ]
    },
    {
      "cell_type": "code",
      "metadata": {
        "id": "5KmvIXKRKXhX"
      },
      "source": [
        "import torch.nn as nn\n",
        "import torch.nn.functional as F\n",
        "\n",
        "class UNet(nn.Module):\n",
        "\n",
        "  def contracting_block1(self, in_channels, out_channels, kernel_size =3):\n",
        "    block = nn.Sequential(\n",
        "        nn.Conv2d(in_channels=in_channels, out_channels=out_channels, kernel_size=kernel_size, padding=1, stride=1),\n",
        "        nn.ReLU(),\n",
        "        nn.BatchNorm2d(out_channels),\n",
        "        nn.Conv2d(in_channels=out_channels, out_channels=out_channels, kernel_size=kernel_size, padding=1, stride=1),\n",
        "        nn.ReLU(),\n",
        "        nn.BatchNorm2d(out_channels)\n",
        "    )\n",
        "    return block\n",
        "\n",
        "\n",
        "  def concat(self, upconv, prev_conv, crop =False):\n",
        "    if crop:\n",
        "        c = (prev_conv.size()[2] - upconv.size()[2]) // 2\n",
        "        prev_conv = F.pad(prev_conv, (-c, -c, -c, -c))\n",
        "    return torch.cat((upconv, prev_conv), 1)\n",
        "\n",
        "\n",
        "  def expansive_block(self, in_channels, out_channels, mid_channels, kernel_size=3):\n",
        "    block = nn.Sequential(\n",
        "        nn.Conv2d(in_channels=in_channels, out_channels=out_channels, kernel_size=kernel_size,padding=1, stride=1),\n",
        "        nn.ReLU(),\n",
        "        nn.BatchNorm2d(out_channels),\n",
        "        nn.Conv2d(in_channels=out_channels, out_channels=out_channels, kernel_size=kernel_size, padding=1, stride=1),\n",
        "        nn.ReLU(),\n",
        "        nn.BatchNorm2d(out_channels),\n",
        "        nn.ConvTranspose2d(in_channels=out_channels, out_channels=mid_channels, kernel_size =3, padding= 1, stride=2, output_padding=1),\n",
        "    )\n",
        "    return block\n",
        "\n",
        "  def final_block(self, in_channels, mid_channel, out_channels, kernel_size=3):\n",
        "    block = torch.nn.Sequential(\n",
        "        torch.nn.Conv2d(kernel_size=kernel_size, in_channels=in_channels, out_channels=mid_channel, padding=1, stride=1),\n",
        "        torch.nn.ReLU(),\n",
        "        torch.nn.BatchNorm2d(mid_channel),\n",
        "        torch.nn.Conv2d(kernel_size=kernel_size, in_channels=mid_channel, out_channels=mid_channel,padding=1, stride=1),\n",
        "        torch.nn.ReLU(),\n",
        "        torch.nn.BatchNorm2d(mid_channel),\n",
        "        torch.nn.Conv2d(kernel_size=kernel_size, in_channels=mid_channel, out_channels=out_channels, padding=1),\n",
        "        torch.nn.Sigmoid(),\n",
        "        #torch.nn.BatchNorm2d(out_channels),\n",
        "    )\n",
        "    return  block\n",
        "   \n",
        "\n",
        "  def __init__(self, in_channel, out_channel):\n",
        "    super(UNet, self).__init__()\n",
        "    #Encode\n",
        "    self.conv_block1 = self.contracting_block1(in_channels =in_channel, out_channels=64)\n",
        "    self.pool_block1 = nn.MaxPool2d(kernel_size=2)\n",
        "    self.conv_block2 = self.contracting_block1(64, 128)\n",
        "    self.pool_block2 = nn.MaxPool2d(kernel_size=2)\n",
        "    self.conv_block3 = self.contracting_block1(128,256)\n",
        "    self.pool_block3 = nn.MaxPool2d(kernel_size=2)\n",
        "    self.conv_block4 = self.contracting_block1(256,512)\n",
        "    self.pool_block4 = nn.MaxPool2d(kernel_size=2)\n",
        "    self.centre_block = nn.Sequential(\n",
        "        nn.Conv2d(512,1024,3,padding=1, stride=1),\n",
        "        nn.ReLU(),\n",
        "        nn.BatchNorm2d(1024),\n",
        "        nn.Conv2d(1024, 1024, 3,padding=1, stride=1),\n",
        "        nn.ReLU(),\n",
        "        nn.BatchNorm2d(1024),\n",
        "        nn.ConvTranspose2d(in_channels= 1024, out_channels = 512, kernel_size = 3, padding =1, stride=2, output_padding=1),\n",
        "    )\n",
        "    self.convup_block1 = self.expansive_block(1024, 512, 256)\n",
        "    self.convup_block2 = self.expansive_block(512, 256, 128)\n",
        "    self.convup_block3 = self.expansive_block(256, 128, 64)\n",
        "    self.final_layer = self.final_block(128, 64, out_channel)\n",
        "  \n",
        "\n",
        "  def forward(self,x):\n",
        "    encode_block1 = self.conv_block1(x)\n",
        "    encode_pool1 = self.pool_block1(encode_block1)\n",
        "    encode_block2 = self.conv_block2(encode_pool1)\n",
        "    encode_pool2 = self.pool_block2(encode_block2)\n",
        "    encode_block3 = self.conv_block3(encode_pool2)\n",
        "    encode_pool3 = self.pool_block3(encode_block3)\n",
        "    encode_block4 = self.conv_block4(encode_pool3)\n",
        "    encode_pool4 = self.pool_block4(encode_block4)\n",
        "\n",
        "    centre_block1 = self.centre_block(encode_pool4)\n",
        "\n",
        "    decode_block0 = self.concat(centre_block1, encode_block4, crop =True)\n",
        "    concat_block0 = self.convup_block1(decode_block0)\n",
        "    decode_block1 = self.concat(concat_block0, encode_block3, crop=True)\n",
        "    concat_block1 = self.convup_block2(decode_block1)\n",
        "    decode_block2 = self.concat(concat_block1, encode_block2, crop=True)\n",
        "    concat_block3 = self.convup_block3(decode_block2)\n",
        "    decode_block3 = self.concat(concat_block3, encode_block1, crop=True)\n",
        "    final_layer1 = self.final_layer(decode_block3)\n",
        "    return(final_layer1)"
      ],
      "execution_count": 29,
      "outputs": []
    },
    {
      "cell_type": "code",
      "metadata": {
        "id": "vgsVRgGidxYC"
      },
      "source": [
        "def soft_dice_loss(y_true, y_pred, axis=1,epsilon=0.00001):\n",
        "    dice_numerator = torch.sum(y_true * y_pred, axis )\n",
        "    dice_denominator = torch.sum(y_true**2, axis) + torch.sum(y_pred**2, axis)\n",
        "    dice_coefficient = torch.mean(torch.true_divide(2*dice_numerator+epsilon,dice_denominator+epsilon))\n",
        "    dice_loss = 1 - dice_coefficient\n",
        "    return dice_loss"
      ],
      "execution_count": 30,
      "outputs": []
    },
    {
      "cell_type": "code",
      "metadata": {
        "id": "mJy0hmMxA0UM"
      },
      "source": [
        "model = UNet(1,4).to(cuda0)"
      ],
      "execution_count": 31,
      "outputs": []
    },
    {
      "cell_type": "code",
      "metadata": {
        "id": "OcV5ZjBpP3nn",
        "outputId": "7d3183c9-485f-4ddf-bdd3-98848c7ad718",
        "colab": {
          "base_uri": "https://localhost:8080/",
          "height": 34
        }
      },
      "source": [
        "out = model(image)\n",
        "out.shape"
      ],
      "execution_count": 33,
      "outputs": [
        {
          "output_type": "execute_result",
          "data": {
            "text/plain": [
              "torch.Size([1, 4, 240, 240])"
            ]
          },
          "metadata": {
            "tags": []
          },
          "execution_count": 33
        }
      ]
    },
    {
      "cell_type": "code",
      "metadata": {
        "id": "sbE1J41CPC4m"
      },
      "source": [
        "x = torch.zeros((1,4,240,240))\n",
        "print(out.shape, x.shape)\n",
        "for i in range(out.shape[0]):\n",
        "  for j in range(out.shape[1]):\n",
        "    for k in range(out.shape[2]):\n",
        "      for l in range(out.shape[3]):  \n",
        "        if y[i,j,k,l] >= 0.25:\n",
        "          x[i,j,k,l] = y[i,j,k,l]\n",
        "        else:\n",
        "          x[i,j,k,l] =0"
      ],
      "execution_count": null,
      "outputs": []
    },
    {
      "cell_type": "code",
      "metadata": {
        "id": "xv7EH3MOxDsL"
      },
      "source": [
        "_,pred =torch.max(out.data, 1)\n",
        "print(pred[0,:,100])\n",
        "_,p = torch.max(labels.data,1)\n",
        "p[0,:,100]"
      ],
      "execution_count": null,
      "outputs": []
    },
    {
      "cell_type": "code",
      "metadata": {
        "id": "WYdzIyMphPcL",
        "outputId": "5864cdc8-d15a-4e3a-a495-6ed07e615d9c",
        "colab": {
          "base_uri": "https://localhost:8080/",
          "height": 87
        }
      },
      "source": [
        "print(labels.shape)\n",
        "_,labels = torch.max(labels.data,1)\n",
        "print(labels.shape)\n",
        "_,pred= torch.max(out.data,1)\n",
        "print(pred.shape)\n",
        "#pred = pred[0,:,:]\n",
        "# print(pred[:,80],a[:,90])\n",
        "ans = soft_dice_loss(labels, pred)\n",
        "ans"
      ],
      "execution_count": null,
      "outputs": [
        {
          "output_type": "stream",
          "text": [
            "torch.Size([1, 4, 240, 240])\n",
            "torch.Size([1, 240, 240])\n",
            "torch.Size([1, 240, 240])\n"
          ],
          "name": "stdout"
        },
        {
          "output_type": "execute_result",
          "data": {
            "text/plain": [
              "tensor(0.9050, device='cuda:0')"
            ]
          },
          "metadata": {
            "tags": []
          },
          "execution_count": 56
        }
      ]
    },
    {
      "cell_type": "code",
      "metadata": {
        "id": "8SyDe-BiiQtC",
        "outputId": "7b0c2730-d5dc-4361-9e85-fb46164fdaab",
        "colab": {
          "base_uri": "https://localhost:8080/",
          "height": 268
        }
      },
      "source": [
        "ans = torch.Tensor.cpu(pred)\n",
        "img = ans[0,:,:].detach().numpy()\n",
        "plt.imshow(img, cmap='gray')\n",
        "plt.show()"
      ],
      "execution_count": null,
      "outputs": [
        {
          "output_type": "display_data",
          "data": {
            "image/png": "[encoded data removed]",
            "text/plain": [
              "<Figure size 432x288 with 1 Axes>"
            ]
          },
          "metadata": {
            "tags": [],
            "needs_background": "light"
          }
        }
      ]
    },
    {
      "cell_type": "code",
      "metadata": {
        "id": "YOm-V3b85EG4"
      },
      "source": [
        "def evaluation(dataloader, model):\n",
        "    for data in dataloader:\n",
        "        inputs, labels = data\n",
        "        inputs, labels = inputs.to(cuda0), labels.to(cuda0)\n",
        "        outputs = model(inputs)\n",
        "        _, pred = torch.max(outputs.data, 1)\n",
        "        _,labels = torch.max(labels.data,1)\n",
        "        # y_pred = pred[0,:,:]\n",
        "        # labels = labels[0,:,:,:]\n",
        "        dice = soft_dice_loss(labels, pred)\n",
        "    return dice"
      ],
      "execution_count": 37,
      "outputs": []
    },
    {
      "cell_type": "code",
      "metadata": {
        "id": "M-EOq0on-u-u"
      },
      "source": [
        "import torch.optim as optim\n",
        "\n",
        "#opt = optim.SGD(model.parameters(), lr= 0.001, momentum =0.9)\n",
        "opt =torch.optim.Adam(model.parameters(), lr=0.001, betas=(0.9, 0.999), eps=1e-08, weight_decay=0, amsgrad=False)\n",
        "#loss_fn = soft_dice_loss(outputs, labels)"
      ],
      "execution_count": 38,
      "outputs": []
    },
    {
      "cell_type": "code",
      "metadata": {
        "id": "4Prw41aR_DOh",
        "outputId": "7ddc4fed-6f9d-4bd6-b126-6e65ef265466",
        "colab": {
          "base_uri": "https://localhost:8080/",
          "height": 212
        }
      },
      "source": [
        "%%time\n",
        "loss_arr = []\n",
        "loss_epoch_arr = []\n",
        "max_epochs = 30\n",
        "train_loss =[]\n",
        "valid_loss = []\n",
        "for epoch in range(max_epochs):\n",
        "\n",
        "    for i, data in enumerate(trainloader, 0):\n",
        "\n",
        "        inputs, labels = data\n",
        "        inputs, labels = inputs.to(cuda0), labels.to(cuda0)\n",
        "        \n",
        "        opt.zero_grad()\n",
        "\n",
        "        outputs = model(inputs)\n",
        "        # _,labels = torch.max(labels.data, 1)\n",
        "        # _,pred = torch.max(outputs.data, 1)\n",
        "        loss = soft_dice_loss(labels, outputs)\n",
        "        loss.backward()\n",
        "        opt.step()\n",
        "        \n",
        "        loss_arr.append(loss.item())\n",
        "        \n",
        "    loss_epoch_arr.append(loss.item())\n",
        "    print('Epoch: %d/%d, valid Dloss: %0.2f, Train DLoss: %0.2f' % (epoch, max_epochs, evaluation(validloader, model), evaluation(trainloader, model)))\n",
        "    train_loss.append(evaluation(trainloader, model))\n",
        "    valid_loss.append(evaluation(validloader, model))\n",
        "    \n",
        "plt.plot(loss_epoch_arr)\n",
        "plt.plot(train_loss)\n",
        "plt.plot(valid_loss)\n",
        "plt.show()"
      ],
      "execution_count": null,
      "outputs": [
        {
          "output_type": "stream",
          "text": [
            "Epoch: 0/30, valid Dloss: 0.45, Train DLoss: 0.31\n",
            "Epoch: 1/30, valid Dloss: 0.38, Train DLoss: 0.20\n",
            "Epoch: 2/30, valid Dloss: 0.36, Train DLoss: 0.19\n",
            "Epoch: 3/30, valid Dloss: 0.43, Train DLoss: 0.00\n",
            "Epoch: 4/30, valid Dloss: 0.35, Train DLoss: 0.22\n",
            "Epoch: 5/30, valid Dloss: 0.30, Train DLoss: 0.19\n",
            "Epoch: 6/30, valid Dloss: 0.16, Train DLoss: 0.11\n",
            "Epoch: 7/30, valid Dloss: 0.13, Train DLoss: 0.15\n",
            "Epoch: 9/30, valid Dloss: 0.13, Train DLoss: 0.05\n",
            "Epoch: 10/30, valid Dloss: 0.11, Train DLoss: 0.11\n",
            "Epoch: 11/30, valid Dloss: 0.07, Train DLoss: 0.12\n"
          ],
          "name": "stdout"
        }
      ]
    },
    {
      "cell_type": "code",
      "metadata": {
        "id": "M8Nn1GDsl63-"
      },
      "source": [
        "import torch.optim as optim\n",
        "#out_channel represents number of segments desired\n",
        "unet = UNet(in_channel=1,out_channel=1).to(cuda0)\n",
        "criterion = torch.nn.CrossEntropyLoss()\n",
        "optimizer = torch.optim.SGD(unet.parameters(), lr = 0.01, momentum=0.99)\n",
        "optimizer.zero_grad()       \n",
        "outputs = unet(images)\n",
        "print(outputs.shape)\n",
        "# permute such that number of desired segments would be on 4th dimension\n",
        "out = outputs.permute(0, 2, 3, 1)\n",
        "m = outputs.shape[0]\n",
        "print(m)\n",
        "# Resizing the outputs and label to caculate pixel wise softmax loss\n",
        "p = out.resize(m*240*240, 2)\n",
        "print(p.shape)\n",
        "q = labels.resize(m*240*240)\n",
        "loss = criterion(p, q)\n",
        "loss.backward()\n",
        "optimizer.step()\n",
        "print(loss)"
      ],
      "execution_count": null,
      "outputs": []
    },
    {
      "cell_type": "code",
      "metadata": {
        "id": "SqliIQAjcIYl"
      },
      "source": [
        "label = torch.Tensor.cpu(q)\n",
        "label = np.ravel(label)"
      ],
      "execution_count": null,
      "outputs": []
    },
    {
      "cell_type": "code",
      "metadata": {
        "id": "qi267NfocU6b"
      },
      "source": [
        "p = torch.Tensor.cpu(p)\n",
        "correct = (p== label)\n",
        "print(correct)"
      ],
      "execution_count": null,
      "outputs": []
    },
    {
      "cell_type": "code",
      "metadata": {
        "id": "5doj1UIBc7cD"
      },
      "source": [
        "_,pred = torch.max(p.data,1)\n",
        "print(_,pred)"
      ],
      "execution_count": null,
      "outputs": []
    },
    {
      "cell_type": "code",
      "metadata": {
        "id": "CW8tqMcEdp98"
      },
      "source": [
        "import collections\n",
        "print(collections.Counter(label))\n",
        "pred = torch.Tensor.cpu(pred)\n",
        "pred = np.asarray(pred)\n",
        "print(type(pred))\n",
        "print(collections.Counter(pred))"
      ],
      "execution_count": null,
      "outputs": []
    },
    {
      "cell_type": "code",
      "metadata": {
        "id": "DGwAlRnPkEUQ"
      },
      "source": [
        "TP = np.sum((label == 1) & (pred == 1))\n",
        "FP = np.sum((label == 0) & (pred ==1))\n",
        "FN = np.sum((label == 1) & (pred == 0))\n",
        "#mask_sum = np.sum(np.abs(label))+np.sum(np.abs(pred))"
      ],
      "execution_count": null,
      "outputs": []
    },
    {
      "cell_type": "code",
      "metadata": {
        "id": "7PZ37w2jkSoP"
      },
      "source": [
        "print(TP)\n",
        "print(FP)\n",
        "print(FN)\n",
        "smooth = 0.001\n",
        "dice = 2*(TP+ smooth)/(2*TP + FP + FN +smooth)\n",
        "iou = (TP+ smooth)/(TP + FP + FN +smooth)\n",
        "print(dice, iou)"
      ],
      "execution_count": null,
      "outputs": []
    },
    {
      "cell_type": "code",
      "metadata": {
        "id": "vYshpRVXCMG5"
      },
      "source": [
        "def evaluation(dataloader):\n",
        "    total, correct = 0, 0\n",
        "    for data in dataloader:\n",
        "        inputs, labels = data\n",
        "        inputs, labels = inputs.to(cuda0), labels.to(cuda0)\n",
        "        outputs = unet(inputs)\n",
        "        out = outputs.permute(0, 2, 3, 1)\n",
        "        m = outputs.shape[0]\n",
        "        p = out.resize(m*240*240, 2)\n",
        "        #p = torch.Tensor.cpu(p)\n",
        "        q = labels.resize(m*240*240)\n",
        "        _,pred = torch.max(p.data,1)\n",
        "        label = torch.Tensor.cpu(q)\n",
        "        label = np.ravel(label)\n",
        "        #correct += (p== label)\n",
        "        TP = np.sum((label == 1) & (pred == 1))\n",
        "        FP = np.sum((label == 0) & (pred ==1))\n",
        "        FN = np.sum((label == 1) & (pred == 0))\n",
        "        smooth = 0.001\n",
        "        dice =1 - 2*(TP+ smooth)/(2*TP + FP + FN +smooth)\n",
        "        #iou = (intr + smooth)/(union + smooth)\n",
        "    return  dice"
      ],
      "execution_count": null,
      "outputs": []
    },
    {
      "cell_type": "code",
      "metadata": {
        "id": "KpSFJ7_T7Yho"
      },
      "source": [
        "def dice_loss(pred, target):\n",
        "    \"\"\"This definition generalize to real valued pred and target vector.\n",
        "This should be differentiable.\n",
        "    pred: tensor with first dimension as batch\n",
        "    target: tensor with first dimension as batch\n",
        "    \"\"\"\n",
        "\n",
        "    smooth = 1.\n",
        "\n",
        "    # have to use contiguous since they may from a torch.view op\n",
        "    iflat = pred.contiguous().view(-1)\n",
        "    tflat = target.contiguous().view(-1)\n",
        "    intersection = (iflat * tflat).sum()\n",
        "\n",
        "    A_sum = torch.sum(tflat * iflat)\n",
        "    B_sum = torch.sum(tflat * tflat)\n",
        "    \n",
        "    return 1 - ((2. * intersection + smooth) / (A_sum + B_sum + smooth) )"
      ],
      "execution_count": null,
      "outputs": []
    },
    {
      "cell_type": "code",
      "metadata": {
        "id": "xegRPE-W4qkL"
      },
      "source": [
        "if cuda0.type == 'cuda':\n",
        "    print(torch.cuda.get_device_name(0))\n",
        "    print('Memory Usage:')\n",
        "    print('Allocated:', round(torch.cuda.memory_allocated(0)/1024**3,1), 'GB')\n",
        "    print('Cached:   ', round(torch.cuda.memory_cached(0)/1024**3,1), 'GB')"
      ],
      "execution_count": null,
      "outputs": []
    },
    {
      "cell_type": "code",
      "metadata": {
        "id": "NrpZXoVashsU",
        "outputId": "e608e9bc-6bb1-44cb-ad88-67b514fe9107",
        "colab": {
          "base_uri": "https://localhost:8080/",
          "height": 303
        }
      },
      "source": [
        "out = outputs.cpu()\n",
        "print(out.shape)\n",
        "out_img = out[0,0,:,:].detach()\n",
        "out_img.shape\n",
        "plt.imshow(out_img, cmap='gray')\n",
        "plt.show"
      ],
      "execution_count": null,
      "outputs": [
        {
          "output_type": "stream",
          "text": [
            "torch.Size([1, 2, 240, 240])\n"
          ],
          "name": "stdout"
        },
        {
          "output_type": "execute_result",
          "data": {
            "text/plain": [
              "<function matplotlib.pyplot.show>"
            ]
          },
          "metadata": {
            "tags": []
          },
          "execution_count": 31
        },
        {
          "output_type": "display_data",
          "data": {
            "image/png": "[encoded data removed]",
            "text/plain": [
              "<Figure size 432x288 with 1 Axes>"
            ]
          },
          "metadata": {
            "tags": [],
            "needs_background": "light"
          }
        }
      ]
    },
    {
      "cell_type": "code",
      "metadata": {
        "id": "3zgZoomLJaFG"
      },
      "source": [
        ""
      ],
      "execution_count": null,
      "outputs": []
    }
  ]
}